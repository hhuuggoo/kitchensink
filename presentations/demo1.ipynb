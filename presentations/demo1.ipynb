{
 "metadata": {
  "name": "",
  "signature": "sha256:07adacbfce61204b3a6a706773e904d824419bbd9d5f3550e59a1c8f565f86fc"
 },
 "nbformat": 3,
 "nbformat_minor": 0,
 "worksheets": [
  {
   "cells": [
    {
     "cell_type": "markdown",
     "metadata": {},
     "source": [
      "### Demo 1\n",
      "\n",
      "Simple startup: `python -m kitchensink.scripts.start --num-workers 2`\n",
      "\n",
      "This auto starts Redis, and runs 2 workers for you, pointing the data storage directory at /tmp"
     ]
    },
    {
     "cell_type": "code",
     "collapsed": false,
     "input": [
      "from kitchensink import setup_client, client\n",
      "from kitchensink import do, dp, du\n",
      "from kitchensink import settings\n",
      "from kitchensink.admin import timethis\n",
      "setup_client('http://localhost:6323/')\n",
      "c = client()"
     ],
     "language": "python",
     "metadata": {},
     "outputs": [],
     "prompt_number": 1
    },
    {
     "cell_type": "code",
     "collapsed": false,
     "input": [
      "def add(x, y):\n",
      "    return x + y\n",
      "c.cs(add, 1, 2)"
     ],
     "language": "python",
     "metadata": {},
     "outputs": [
      {
       "metadata": {},
       "output_type": "pyout",
       "prompt_number": 2,
       "text": [
        "3"
       ]
      }
     ],
     "prompt_number": 2
    },
    {
     "cell_type": "markdown",
     "metadata": {},
     "source": [
      "Here - cs is short for call_single, execute a single function remotely, and return the result"
     ]
    },
    {
     "cell_type": "code",
     "collapsed": false,
     "input": [
      "def double(x):\n",
      "    return 2 * x\n",
      "c.map(double, [1,2,3,4,5])"
     ],
     "language": "python",
     "metadata": {},
     "outputs": [
      {
       "metadata": {},
       "output_type": "pyout",
       "prompt_number": 3,
       "text": [
        "[2, 4, 6, 8, 10]"
       ]
      }
     ],
     "prompt_number": 3
    },
    {
     "cell_type": "markdown",
     "metadata": {},
     "source": [
      "We also have a map function, duplicating the builtin map, but the function you pass into map needs to take one parameter.  The most flexible pattern for using kitchensink, is to use bc (bulk_call), execute, and the br (bulk_results)\n"
     ]
    },
    {
     "cell_type": "code",
     "collapsed": false,
     "input": [
      "for counter in range(10):\n",
      "    c.bc(add, 1, 2)\n",
      "c.execute()\n",
      "c.br()"
     ],
     "language": "python",
     "metadata": {},
     "outputs": [
      {
       "metadata": {},
       "output_type": "pyout",
       "prompt_number": 4,
       "text": [
        "[3, 3, 3, 3, 3, 3, 3, 3, 3, 3]"
       ]
      }
     ],
     "prompt_number": 4
    },
    {
     "cell_type": "markdown",
     "metadata": {},
     "source": [
      "bc - queues up a function for execution(locally), execute sends all the function calls to the server, br, pulls down the results"
     ]
    },
    {
     "cell_type": "markdown",
     "metadata": {},
     "source": [
      "### Error Handling"
     ]
    },
    {
     "cell_type": "code",
     "collapsed": false,
     "input": [
      "import time\n",
      "def long_running_computation_with_some_progress_output():\n",
      "    print 'starting'\n",
      "    time.sleep(1)\n",
      "    print 'finished step1'\n",
      "    time.sleep(1)\n",
      "    print 'done'\n",
      "c.cs(long_running_computation_with_some_progress_output)"
     ],
     "language": "python",
     "metadata": {},
     "outputs": [
      {
       "output_type": "stream",
       "stream": "stdout",
       "text": [
        "starting\n",
        "finished step1"
       ]
      },
      {
       "output_type": "stream",
       "stream": "stdout",
       "text": [
        "\n",
        "done"
       ]
      },
      {
       "output_type": "stream",
       "stream": "stdout",
       "text": [
        "\n"
       ]
      }
     ],
     "prompt_number": 5
    },
    {
     "cell_type": "code",
     "collapsed": false,
     "input": [
      "c.cs(add, \"some string\", 1)"
     ],
     "language": "python",
     "metadata": {},
     "outputs": [
      {
       "ename": "Exception",
       "evalue": "Traceback (most recent call last):\n  File \"kitchensink/taskqueue/objs.py\", line 260, in perform_job\n    rv = job.perform()\n  File \"kitchensink/taskqueue/objs.py\", line 147, in perform\n    self._result = self.func(*self.args, **self.kwargs)\n  File \"kitchensink/rpc/__init__.py\", line 291, in execute_msg\n    result = _execute_msg(msg)\n  File \"kitchensink/rpc/__init__.py\", line 241, in _execute_msg\n    result = func(*args, **kwargs)\n  File \"<ipython-input-2-ce8645436ac5>\", line 2, in add\nTypeError: cannot concatenate 'str' and 'int' objects\n",
       "output_type": "pyerr",
       "traceback": [
        "\u001b[1;31m---------------------------------------------------------------------------\u001b[0m\n\u001b[1;31mException\u001b[0m                                 Traceback (most recent call last)",
        "\u001b[1;32m<ipython-input-6-1aa819721224>\u001b[0m in \u001b[0;36m<module>\u001b[1;34m()\u001b[0m\n\u001b[1;32m----> 1\u001b[1;33m \u001b[0mc\u001b[0m\u001b[1;33m.\u001b[0m\u001b[0mcs\u001b[0m\u001b[1;33m(\u001b[0m\u001b[0madd\u001b[0m\u001b[1;33m,\u001b[0m \u001b[1;34m\"some string\"\u001b[0m\u001b[1;33m,\u001b[0m \u001b[1;36m1\u001b[0m\u001b[1;33m)\u001b[0m\u001b[1;33m\u001b[0m\u001b[0m\n\u001b[0m",
        "\u001b[1;32m/home/hugoshi/work/kitchensink/kitchensink/clients/http.pyc\u001b[0m in \u001b[0;36mcall_single\u001b[1;34m(self, func, *args, **kwargs)\u001b[0m\n\u001b[0;32m    291\u001b[0m         \u001b[0mself\u001b[0m\u001b[1;33m.\u001b[0m\u001b[0mbc\u001b[0m\u001b[1;33m(\u001b[0m\u001b[0mfunc\u001b[0m\u001b[1;33m,\u001b[0m \u001b[1;33m*\u001b[0m\u001b[0margs\u001b[0m\u001b[1;33m,\u001b[0m \u001b[1;33m**\u001b[0m\u001b[0mkwargs\u001b[0m\u001b[1;33m)\u001b[0m\u001b[1;33m\u001b[0m\u001b[0m\n\u001b[0;32m    292\u001b[0m         \u001b[0mself\u001b[0m\u001b[1;33m.\u001b[0m\u001b[0mexecute\u001b[0m\u001b[1;33m(\u001b[0m\u001b[1;33m)\u001b[0m\u001b[1;33m\u001b[0m\u001b[0m\n\u001b[1;32m--> 293\u001b[1;33m         \u001b[1;32mreturn\u001b[0m \u001b[0mself\u001b[0m\u001b[1;33m.\u001b[0m\u001b[0mbr\u001b[0m\u001b[1;33m(\u001b[0m\u001b[1;33m)\u001b[0m\u001b[1;33m[\u001b[0m\u001b[1;36m0\u001b[0m\u001b[1;33m]\u001b[0m\u001b[1;33m\u001b[0m\u001b[0m\n\u001b[0m\u001b[0;32m    294\u001b[0m     \u001b[0mcs\u001b[0m \u001b[1;33m=\u001b[0m \u001b[0mcall_single\u001b[0m\u001b[1;33m\u001b[0m\u001b[0m\n\u001b[0;32m    295\u001b[0m \u001b[1;33m\u001b[0m\u001b[0m\n",
        "\u001b[1;32m/home/hugoshi/work/kitchensink/kitchensink/clients/http.pyc\u001b[0m in \u001b[0;36mbulk_results\u001b[1;34m(self, profile)\u001b[0m\n\u001b[0;32m    205\u001b[0m             \u001b[1;32mreturn\u001b[0m \u001b[0mself\u001b[0m\u001b[1;33m.\u001b[0m\u001b[0mbulk_results_local\u001b[0m\u001b[1;33m(\u001b[0m\u001b[1;33m)\u001b[0m\u001b[1;33m\u001b[0m\u001b[0m\n\u001b[0;32m    206\u001b[0m         \u001b[1;32mtry\u001b[0m\u001b[1;33m:\u001b[0m\u001b[1;33m\u001b[0m\u001b[0m\n\u001b[1;32m--> 207\u001b[1;33m             \u001b[0mretval\u001b[0m \u001b[1;33m=\u001b[0m \u001b[0mself\u001b[0m\u001b[1;33m.\u001b[0m\u001b[0mbulk_async_result\u001b[0m\u001b[1;33m(\u001b[0m\u001b[0mself\u001b[0m\u001b[1;33m.\u001b[0m\u001b[0mjids\u001b[0m\u001b[1;33m)\u001b[0m\u001b[1;33m\u001b[0m\u001b[0m\n\u001b[0m\u001b[0;32m    208\u001b[0m         \u001b[1;32mexcept\u001b[0m \u001b[0mKeyboardInterrupt\u001b[0m \u001b[1;32mas\u001b[0m \u001b[0me\u001b[0m\u001b[1;33m:\u001b[0m\u001b[1;33m\u001b[0m\u001b[0m\n\u001b[0;32m    209\u001b[0m             \u001b[0mself\u001b[0m\u001b[1;33m.\u001b[0m\u001b[0mbulk_cancel\u001b[0m\u001b[1;33m(\u001b[0m\u001b[0mself\u001b[0m\u001b[1;33m.\u001b[0m\u001b[0mjids\u001b[0m\u001b[1;33m)\u001b[0m\u001b[1;33m\u001b[0m\u001b[0m\n",
        "\u001b[1;32m/home/hugoshi/work/kitchensink/kitchensink/clients/http.pyc\u001b[0m in \u001b[0;36mbulk_async_result\u001b[1;34m(self, job_ids, timeout)\u001b[0m\n\u001b[0;32m    169\u001b[0m                 \u001b[1;32mif\u001b[0m \u001b[0mmetadata\u001b[0m\u001b[1;33m[\u001b[0m\u001b[1;34m'status'\u001b[0m\u001b[1;33m]\u001b[0m \u001b[1;33m==\u001b[0m \u001b[0mStatus\u001b[0m\u001b[1;33m.\u001b[0m\u001b[0mFAILED\u001b[0m\u001b[1;33m:\u001b[0m\u001b[1;33m\u001b[0m\u001b[0m\n\u001b[0;32m    170\u001b[0m                     \u001b[0mself\u001b[0m\u001b[1;33m.\u001b[0m\u001b[0mbulk_cancel\u001b[0m\u001b[1;33m(\u001b[0m\u001b[0mto_query\u001b[0m\u001b[1;33m)\u001b[0m\u001b[1;33m\u001b[0m\u001b[0m\n\u001b[1;32m--> 171\u001b[1;33m                     \u001b[1;32mraise\u001b[0m \u001b[0mException\u001b[0m\u001b[1;33m(\u001b[0m\u001b[0mdata\u001b[0m\u001b[1;33m)\u001b[0m\u001b[1;33m\u001b[0m\u001b[0m\n\u001b[0m\u001b[0;32m    172\u001b[0m                 \u001b[1;32melif\u001b[0m \u001b[0mmetadata\u001b[0m\u001b[1;33m[\u001b[0m\u001b[1;34m'status'\u001b[0m\u001b[1;33m]\u001b[0m \u001b[1;33m==\u001b[0m \u001b[0mStatus\u001b[0m\u001b[1;33m.\u001b[0m\u001b[0mFINISHED\u001b[0m\u001b[1;33m:\u001b[0m\u001b[1;33m\u001b[0m\u001b[0m\n\u001b[0;32m    173\u001b[0m                     \u001b[0mresults\u001b[0m\u001b[1;33m[\u001b[0m\u001b[0mjob_id\u001b[0m\u001b[1;33m]\u001b[0m \u001b[1;33m=\u001b[0m \u001b[0mdata\u001b[0m\u001b[1;33m\u001b[0m\u001b[0m\n",
        "\u001b[1;31mException\u001b[0m: Traceback (most recent call last):\n  File \"kitchensink/taskqueue/objs.py\", line 260, in perform_job\n    rv = job.perform()\n  File \"kitchensink/taskqueue/objs.py\", line 147, in perform\n    self._result = self.func(*self.args, **self.kwargs)\n  File \"kitchensink/rpc/__init__.py\", line 291, in execute_msg\n    result = _execute_msg(msg)\n  File \"kitchensink/rpc/__init__.py\", line 241, in _execute_msg\n    result = func(*args, **kwargs)\n  File \"<ipython-input-2-ce8645436ac5>\", line 2, in add\nTypeError: cannot concatenate 'str' and 'int' objects\n"
       ]
      }
     ],
     "prompt_number": 6
    },
    {
     "cell_type": "markdown",
     "metadata": {},
     "source": [
      "## Parallel Computation"
     ]
    },
    {
     "cell_type": "code",
     "collapsed": false,
     "input": [
      "from kitchensink.admin import timethis\n",
      "\n",
      "def dummy_slow_function():\n",
      "    print settings.rpc_url\n",
      "    time.sleep(1)\n",
      "with timethis('slow'):\n",
      "    dummy_slow_function()\n",
      "    dummy_slow_function()"
     ],
     "language": "python",
     "metadata": {},
     "outputs": [
      {
       "output_type": "stream",
       "stream": "stdout",
       "text": [
        "http://localhost:6323/\n",
        "http://localhost:6323/"
       ]
      },
      {
       "output_type": "stream",
       "stream": "stdout",
       "text": [
        "\n",
        "slow : 2.002 seconds"
       ]
      },
      {
       "output_type": "stream",
       "stream": "stdout",
       "text": [
        "\n"
       ]
      }
     ],
     "prompt_number": 10
    },
    {
     "cell_type": "code",
     "collapsed": false,
     "input": [
      "with timethis('parallel'):\n",
      "    for counter in range(4):\n",
      "        c.bc(dummy_slow_function)\n",
      "    c.execute()\n",
      "    c.br()"
     ],
     "language": "python",
     "metadata": {},
     "outputs": [
      {
       "output_type": "stream",
       "stream": "stdout",
       "text": [
        "http://localhost:6234/\n",
        "http://localhost:6323/\n",
        "http://localhost:6323/\n",
        "http://localhost:6234/\n",
        "parallel : 1.033 seconds"
       ]
      },
      {
       "output_type": "stream",
       "stream": "stdout",
       "text": [
        "\n"
       ]
      }
     ],
     "prompt_number": 11
    },
    {
     "cell_type": "code",
     "collapsed": false,
     "input": [
      "c.hosts()"
     ],
     "language": "python",
     "metadata": {},
     "outputs": [
      {
       "metadata": {},
       "output_type": "pyout",
       "prompt_number": 12,
       "text": [
        "{'http://localhost:6234/': 'http://localhost:6234/',\n",
        " 'http://localhost:6323/': 'http://localhost:6323/'}"
       ]
      }
     ],
     "prompt_number": 12
    },
    {
     "cell_type": "code",
     "collapsed": false,
     "input": [
      "import numpy as np\n",
      "import pandas as pd\n",
      "size = 1000000\n",
      "dummy_data1 = pd.DataFrame({'a' : np.random.random(size), 'b' : np.random.random(size)})\n",
      "dummy_data2 = pd.DataFrame({'a' : np.random.random(size), 'b' : np.random.random(size)})\n",
      "from kitchensink import do, dp, du\n",
      "c.reducetree('*')\n",
      "obj1 = do(dummy_data1)\n",
      "obj1.rpc_url = 'http://localhost:6323/'\n",
      "obj1.save(url='dummy1')\n",
      "obj2 = do(dummy_data2)\n",
      "obj2.rpc_url = 'http://localhost:6234/'\n",
      "obj2.save(url='dummy2')"
     ],
     "language": "python",
     "metadata": {},
     "outputs": [
      {
       "output_type": "stream",
       "stream": "stdout",
       "text": [
        "finished\n"
       ]
      }
     ],
     "prompt_number": 13
    },
    {
     "cell_type": "code",
     "collapsed": false,
     "input": [
      "c.path_search('*')"
     ],
     "language": "python",
     "metadata": {},
     "outputs": [
      {
       "output_type": "stream",
       "stream": "stdout",
       "text": [
        "finished\n"
       ]
      },
      {
       "metadata": {},
       "output_type": "pyout",
       "prompt_number": 14,
       "text": [
        "['dummy1', 'dummy2']"
       ]
      }
     ],
     "prompt_number": 14
    },
    {
     "cell_type": "code",
     "collapsed": false,
     "input": [
      "c.data_info(['dummy1', 'dummy2'])"
     ],
     "language": "python",
     "metadata": {},
     "outputs": [
      {
       "metadata": {},
       "output_type": "pyout",
       "prompt_number": 15,
       "text": [
        "({'http://localhost:6234/': 'http://localhost:6234/',\n",
        "  'http://localhost:6323/': 'http://localhost:6323/'},\n",
        " {'dummy1': ({'http://localhost:6323/'},\n",
        "   {'data_type': 'object',\n",
        "    'fmt': 'cloudpickle',\n",
        "    'size': 24000647,\n",
        "    'state': 'ready'}),\n",
        "  'dummy2': ({'http://localhost:6234/'},\n",
        "   {'data_type': 'object',\n",
        "    'fmt': 'cloudpickle',\n",
        "    'size': 24000647,\n",
        "    'state': 'ready'})})"
       ]
      }
     ],
     "prompt_number": 15
    },
    {
     "cell_type": "code",
     "collapsed": false,
     "input": [
      "def calc_sum(obj):\n",
      "    with timethis('extracting df'):\n",
      "        df = obj.obj()\n",
      "    print settings.rpc_url, obj.data_url\n",
      "    with timethis('sum'):\n",
      "        return df.sum()\n",
      "c.bc(calc_sum, du('dummy1'))\n",
      "c.bc(calc_sum, du('dummy2'))\n",
      "c.execute()\n",
      "c.br()"
     ],
     "language": "python",
     "metadata": {},
     "outputs": [
      {
       "output_type": "stream",
       "stream": "stdout",
       "text": [
        "http://localhost:6234/ dummy2\n",
        "http://localhost:6323/ dummy1\n"
       ]
      },
      {
       "metadata": {},
       "output_type": "pyout",
       "prompt_number": 32,
       "text": [
        "[a    499943.678429\n",
        " b    499843.238526\n",
        " dtype: float64, a    499998.93295\n",
        " b    500212.42850\n",
        " dtype: float64]"
       ]
      }
     ],
     "prompt_number": 32
    },
    {
     "cell_type": "code",
     "collapsed": false,
     "input": [
      "c.bc(calc_sum, du('dummy1'), _no_route_data=True)\n",
      "c.bc(calc_sum, du('dummy2'), _no_route_data=True)\n",
      "c.execute()\n",
      "c.br()"
     ],
     "language": "python",
     "metadata": {},
     "outputs": [
      {
       "output_type": "stream",
       "stream": "stdout",
       "text": [
        "1416592859.397874:14777:kitchensink.data.catalog:retrieving dummy2 from http://localhost:6234/\n",
        "1416592859.399016:14776:kitchensink.data.catalog:retrieving dummy1 from http://localhost:6323/\n",
        "http://localhost:6234/ dummy1"
       ]
      },
      {
       "output_type": "stream",
       "stream": "stdout",
       "text": [
        "\n",
        "http://localhost:6323/ dummy2\n"
       ]
      },
      {
       "metadata": {},
       "output_type": "pyout",
       "prompt_number": 36,
       "text": [
        "[a    499943.678429\n",
        " b    499843.238526\n",
        " dtype: float64, a    499998.93295\n",
        " b    500212.42850\n",
        " dtype: float64]"
       ]
      }
     ],
     "prompt_number": 36
    },
    {
     "cell_type": "code",
     "collapsed": false,
     "input": [
      "c.bc(calc_sum, du('dummy1'))\n",
      "c.bc(calc_sum, du('dummy2'))\n",
      "c.execute()\n",
      "c.br(profile='sum')"
     ],
     "language": "python",
     "metadata": {},
     "outputs": [
      {
       "output_type": "stream",
       "stream": "stdout",
       "text": [
        "http://localhost:6234/ dummy2\n",
        "http://localhost:6323/ dummy1\n",
        "sum took 0.0762531757355\n",
        "extracting df    0.051909\n",
        "result save      0.000367\n",
        "sum              0.070048\n",
        "start_spread     0.000519\n",
        "end_spread       0.002318\n",
        "dtype: float64\n",
        "sum unmeasured_overhead 0.0150913000107\n",
        "sum runtime_overhead 0.00864958763123\n",
        "sum result delay 0.00341200828552\n",
        "sum complete 1416592937.32\n"
       ]
      },
      {
       "metadata": {},
       "output_type": "pyout",
       "prompt_number": 37,
       "text": [
        "[a    499943.678429\n",
        " b    499843.238526\n",
        " dtype: float64, a    499998.93295\n",
        " b    500212.42850\n",
        " dtype: float64]"
       ]
      }
     ],
     "prompt_number": 37
    },
    {
     "cell_type": "code",
     "collapsed": false,
     "input": [],
     "language": "python",
     "metadata": {},
     "outputs": []
    }
   ],
   "metadata": {}
  }
 ]
}